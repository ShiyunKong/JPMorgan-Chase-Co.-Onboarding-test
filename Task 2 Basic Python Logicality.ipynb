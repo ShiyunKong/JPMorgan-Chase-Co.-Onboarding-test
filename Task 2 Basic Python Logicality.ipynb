{
 "cells": [
  {
   "cell_type": "code",
   "execution_count": 1,
   "metadata": {
    "collapsed": true
   },
   "outputs": [],
   "source": [
    "import numpy as np\n",
    "import pandas as pd\n",
    "from sklearn.linear_model import LinearRegression\n",
    "from sklearn.cluster import KMeans\n",
    "from sklearn.tree import DecisionTreeClassifier\n",
    "from sklearn.ensemble import RandomForestRegressor\n",
    "from sklearn.metrics import mean_absolute_error, confusion_matrix, mean_squared_error, r2_score\n",
    "from sklearn.model_selection import train_test_split\n",
    "from scipy.ndimage import gaussian_filter1d\n",
    "%matplotlib inline\n",
    "import matplotlib as mpl\n",
    "import matplotlib.pyplot as plt\n",
    "import seaborn as sns"
   ]
  },
  {
   "cell_type": "code",
   "execution_count": 6,
   "outputs": [
    {
     "data": {
      "text/plain": "       Dates  Prices\n0   10/31/20   10.10\n1   11/30/20   10.30\n2   12/31/20   11.00\n3    1/31/21   10.90\n4    2/28/21   10.90\n5    3/31/21   10.90\n6    4/30/21   10.40\n7    5/31/21    9.84\n8    6/30/21   10.00\n9    7/31/21   10.10\n10   8/31/21   10.30\n11   9/30/21   10.20\n12  10/31/21   10.10\n13  11/30/21   11.20\n14  12/31/21   11.40\n15   1/31/22   11.50\n16   2/28/22   11.80\n17   3/31/22   11.50\n18   4/30/22   10.70\n19   5/31/22   10.70\n20   6/30/22   10.40\n21   7/31/22   10.50\n22   8/31/22   10.40\n23   9/30/22   10.80\n24  10/31/22   11.00\n25  11/30/22   11.60\n26  12/31/22   11.60\n27   1/31/23   12.10\n28   2/28/23   11.70\n29   3/31/23   12.00\n30   4/30/23   11.50\n31   5/31/23   11.20\n32   6/30/23   10.90\n33   7/31/23   11.40\n34   8/31/23   11.10\n35   9/30/23   11.50\n36  10/31/23   11.80\n37  11/30/23   12.20\n38  12/31/23   12.80\n39   1/31/24   12.60\n40   2/29/24   12.40\n41   3/31/24   12.70\n42   4/30/24   12.10\n43   5/31/24   11.40\n44   6/30/24   11.50\n45   7/31/24   11.60\n46   8/31/24   11.50\n47   9/30/24   11.80",
      "text/html": "<div>\n<style scoped>\n    .dataframe tbody tr th:only-of-type {\n        vertical-align: middle;\n    }\n\n    .dataframe tbody tr th {\n        vertical-align: top;\n    }\n\n    .dataframe thead th {\n        text-align: right;\n    }\n</style>\n<table border=\"1\" class=\"dataframe\">\n  <thead>\n    <tr style=\"text-align: right;\">\n      <th></th>\n      <th>Dates</th>\n      <th>Prices</th>\n    </tr>\n  </thead>\n  <tbody>\n    <tr>\n      <th>0</th>\n      <td>10/31/20</td>\n      <td>10.10</td>\n    </tr>\n    <tr>\n      <th>1</th>\n      <td>11/30/20</td>\n      <td>10.30</td>\n    </tr>\n    <tr>\n      <th>2</th>\n      <td>12/31/20</td>\n      <td>11.00</td>\n    </tr>\n    <tr>\n      <th>3</th>\n      <td>1/31/21</td>\n      <td>10.90</td>\n    </tr>\n    <tr>\n      <th>4</th>\n      <td>2/28/21</td>\n      <td>10.90</td>\n    </tr>\n    <tr>\n      <th>5</th>\n      <td>3/31/21</td>\n      <td>10.90</td>\n    </tr>\n    <tr>\n      <th>6</th>\n      <td>4/30/21</td>\n      <td>10.40</td>\n    </tr>\n    <tr>\n      <th>7</th>\n      <td>5/31/21</td>\n      <td>9.84</td>\n    </tr>\n    <tr>\n      <th>8</th>\n      <td>6/30/21</td>\n      <td>10.00</td>\n    </tr>\n    <tr>\n      <th>9</th>\n      <td>7/31/21</td>\n      <td>10.10</td>\n    </tr>\n    <tr>\n      <th>10</th>\n      <td>8/31/21</td>\n      <td>10.30</td>\n    </tr>\n    <tr>\n      <th>11</th>\n      <td>9/30/21</td>\n      <td>10.20</td>\n    </tr>\n    <tr>\n      <th>12</th>\n      <td>10/31/21</td>\n      <td>10.10</td>\n    </tr>\n    <tr>\n      <th>13</th>\n      <td>11/30/21</td>\n      <td>11.20</td>\n    </tr>\n    <tr>\n      <th>14</th>\n      <td>12/31/21</td>\n      <td>11.40</td>\n    </tr>\n    <tr>\n      <th>15</th>\n      <td>1/31/22</td>\n      <td>11.50</td>\n    </tr>\n    <tr>\n      <th>16</th>\n      <td>2/28/22</td>\n      <td>11.80</td>\n    </tr>\n    <tr>\n      <th>17</th>\n      <td>3/31/22</td>\n      <td>11.50</td>\n    </tr>\n    <tr>\n      <th>18</th>\n      <td>4/30/22</td>\n      <td>10.70</td>\n    </tr>\n    <tr>\n      <th>19</th>\n      <td>5/31/22</td>\n      <td>10.70</td>\n    </tr>\n    <tr>\n      <th>20</th>\n      <td>6/30/22</td>\n      <td>10.40</td>\n    </tr>\n    <tr>\n      <th>21</th>\n      <td>7/31/22</td>\n      <td>10.50</td>\n    </tr>\n    <tr>\n      <th>22</th>\n      <td>8/31/22</td>\n      <td>10.40</td>\n    </tr>\n    <tr>\n      <th>23</th>\n      <td>9/30/22</td>\n      <td>10.80</td>\n    </tr>\n    <tr>\n      <th>24</th>\n      <td>10/31/22</td>\n      <td>11.00</td>\n    </tr>\n    <tr>\n      <th>25</th>\n      <td>11/30/22</td>\n      <td>11.60</td>\n    </tr>\n    <tr>\n      <th>26</th>\n      <td>12/31/22</td>\n      <td>11.60</td>\n    </tr>\n    <tr>\n      <th>27</th>\n      <td>1/31/23</td>\n      <td>12.10</td>\n    </tr>\n    <tr>\n      <th>28</th>\n      <td>2/28/23</td>\n      <td>11.70</td>\n    </tr>\n    <tr>\n      <th>29</th>\n      <td>3/31/23</td>\n      <td>12.00</td>\n    </tr>\n    <tr>\n      <th>30</th>\n      <td>4/30/23</td>\n      <td>11.50</td>\n    </tr>\n    <tr>\n      <th>31</th>\n      <td>5/31/23</td>\n      <td>11.20</td>\n    </tr>\n    <tr>\n      <th>32</th>\n      <td>6/30/23</td>\n      <td>10.90</td>\n    </tr>\n    <tr>\n      <th>33</th>\n      <td>7/31/23</td>\n      <td>11.40</td>\n    </tr>\n    <tr>\n      <th>34</th>\n      <td>8/31/23</td>\n      <td>11.10</td>\n    </tr>\n    <tr>\n      <th>35</th>\n      <td>9/30/23</td>\n      <td>11.50</td>\n    </tr>\n    <tr>\n      <th>36</th>\n      <td>10/31/23</td>\n      <td>11.80</td>\n    </tr>\n    <tr>\n      <th>37</th>\n      <td>11/30/23</td>\n      <td>12.20</td>\n    </tr>\n    <tr>\n      <th>38</th>\n      <td>12/31/23</td>\n      <td>12.80</td>\n    </tr>\n    <tr>\n      <th>39</th>\n      <td>1/31/24</td>\n      <td>12.60</td>\n    </tr>\n    <tr>\n      <th>40</th>\n      <td>2/29/24</td>\n      <td>12.40</td>\n    </tr>\n    <tr>\n      <th>41</th>\n      <td>3/31/24</td>\n      <td>12.70</td>\n    </tr>\n    <tr>\n      <th>42</th>\n      <td>4/30/24</td>\n      <td>12.10</td>\n    </tr>\n    <tr>\n      <th>43</th>\n      <td>5/31/24</td>\n      <td>11.40</td>\n    </tr>\n    <tr>\n      <th>44</th>\n      <td>6/30/24</td>\n      <td>11.50</td>\n    </tr>\n    <tr>\n      <th>45</th>\n      <td>7/31/24</td>\n      <td>11.60</td>\n    </tr>\n    <tr>\n      <th>46</th>\n      <td>8/31/24</td>\n      <td>11.50</td>\n    </tr>\n    <tr>\n      <th>47</th>\n      <td>9/30/24</td>\n      <td>11.80</td>\n    </tr>\n  </tbody>\n</table>\n</div>"
     },
     "execution_count": 6,
     "metadata": {},
     "output_type": "execute_result"
    }
   ],
   "source": [
    "df_natural_gas = pd.read_csv(\"./datasets/Nat_Gas.csv\")\n",
    "df_natural_gas"
   ],
   "metadata": {
    "collapsed": false
   }
  },
  {
   "cell_type": "code",
   "execution_count": 63,
   "outputs": [],
   "source": [
    "def pricing_the_contract(injection_dates_lst:[str], withdrawal_dates_lst:[str], purchasing_price_lst:[float], sold_price_lst:[float], injection_volume_lst:[float], withdraw_volume_lst:[float], storage_costs_per_month = 30, max_volume=2000):\n",
    "    total_profit = 0\n",
    "    stop = False\n",
    "    if len(injection_dates_lst) == len(withdrawal_dates_lst) == len(purchasing_price_lst) == len(sold_price_lst) == len(injection_volume_lst) == len(withdraw_volume_lst) :\n",
    "        for i in range(len(injection_dates_lst)):\n",
    "            injection_dates = injection_dates_lst[i]\n",
    "            withdrawal_dates = withdrawal_dates_lst[i]\n",
    "            purchasing_price = purchasing_price_lst[i]\n",
    "            sold_price = sold_price_lst[i]\n",
    "            injection_volume = injection_volume_lst[i]\n",
    "            withdraw_volume = withdraw_volume_lst[i]\n",
    "            if not (isinstance(storage_costs_per_month, (int, float)) and storage_costs_per_month >= 0):\n",
    "                raise ValueError(\"storage_costs_per_month must be a non-negative number\")\n",
    "\n",
    "            if not (isinstance(max_volume, (int, float)) and max_volume >= 0):\n",
    "                raise ValueError(\"max_volume must be a non-negative number\")\n",
    "\n",
    "            if not (isinstance(purchasing_price, (int, float)) and purchasing_price >= 0):\n",
    "                raise ValueError(\"purchasing_price must be a non-negative number\")\n",
    "\n",
    "            if not (isinstance(sold_price, (int, float)) and sold_price >= 0):\n",
    "                raise ValueError(\"sold_price must be a non-negative number\")\n",
    "\n",
    "            if not (isinstance(injection_volume, (int, float)) and injection_volume >= 0):\n",
    "                raise ValueError(\"injection_withdraw_volume must be a non-negative number\")\n",
    "\n",
    "            if not (isinstance(withdraw_volume, (int, float)) and withdraw_volume >= 0):\n",
    "                raise ValueError(\"injection_withdraw_volume must be a non-negative number\")\n",
    "\n",
    "            if sum(injection_volume_lst) != sum(withdraw_volume_lst):\n",
    "                print('All injection must also be withdrawn if and only if there exist equal volume of injected and withdrew of natural gas')\n",
    "                stop = True\n",
    "                break\n",
    "            difference_in_unit_price = sold_price - purchasing_price\n",
    "            total_profit -= difference_in_unit_price * injection_volume\n",
    "            injection_dates = pd.to_datetime(injection_dates)\n",
    "            withdrawal_dates = pd.to_datetime(withdrawal_dates)\n",
    "            if injection_dates == withdrawal_dates:\n",
    "                total_profit += 0\n",
    "                continue\n",
    "            else:\n",
    "                if int((withdrawal_dates - injection_dates) / np.timedelta64(1, 'M')) < 1:\n",
    "                    difference_in_months = 1\n",
    "                else:\n",
    "                    difference_in_months = int((withdrawal_dates - injection_dates) / np.timedelta64(1, 'M'))\n",
    "            # print(difference_in_months)\n",
    "            storage_cost = storage_costs_per_month * difference_in_months\n",
    "\n",
    "            revenue = difference_in_unit_price * withdraw_volume\n",
    "            intermediate_profit = revenue - storage_cost\n",
    "            total_profit += intermediate_profit\n",
    "            continue\n",
    "        if not stop:\n",
    "            return total_profit\n",
    "    else:\n",
    "        print('List length unmatched')\n",
    "\n"
   ],
   "metadata": {
    "collapsed": false
   }
  },
  {
   "cell_type": "code",
   "execution_count": 65,
   "outputs": [
    {
     "data": {
      "text/plain": "-300.00000000000034"
     },
     "execution_count": 65,
     "metadata": {},
     "output_type": "execute_result"
    }
   ],
   "source": [
    "pricing_the_contract(injection_dates_lst=['10/31/20', '9/30/24'], withdrawal_dates_lst=['4/30/21', '9/30/24'], purchasing_price_lst=[10.10, 11.80], sold_price_lst=[10.40, 11.80], injection_volume_lst=[1000, 500], withdraw_volume_lst=[500, 1000])"
   ],
   "metadata": {
    "collapsed": false
   }
  },
  {
   "cell_type": "code",
   "execution_count": null,
   "outputs": [],
   "source": [],
   "metadata": {
    "collapsed": false
   }
  }
 ],
 "metadata": {
  "kernelspec": {
   "display_name": "Python 3",
   "language": "python",
   "name": "python3"
  },
  "language_info": {
   "codemirror_mode": {
    "name": "ipython",
    "version": 2
   },
   "file_extension": ".py",
   "mimetype": "text/x-python",
   "name": "python",
   "nbconvert_exporter": "python",
   "pygments_lexer": "ipython2",
   "version": "2.7.6"
  }
 },
 "nbformat": 4,
 "nbformat_minor": 0
}
